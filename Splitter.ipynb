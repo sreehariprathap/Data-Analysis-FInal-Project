{
 "cells": [
  {
   "cell_type": "code",
   "execution_count": 2,
   "metadata": {},
   "outputs": [
    {
     "name": "stderr",
     "output_type": "stream",
     "text": [
      "c:\\Users\\DELL\\Desktop\\Conestoga\\AIML\\FoundationsMachineLearningFramework\\Lab\\venvs\\CSCN8010_classical_ml_311\\Lib\\site-packages\\nbformat\\__init__.py:129: MissingIDFieldWarning: Code cell is missing an id field, this will become a hard error in future nbformat versions. You may want to use `normalize()` on your notebooks before validations (available since nbformat 5.1.4). Previous versions of nbformat are fixing this issue transparently, and will stop doing so in the future.\n",
      "  validate(nb)\n"
     ]
    },
    {
     "ename": "UnicodeEncodeError",
     "evalue": "'charmap' codec can't encode character '\\u2080' in position 1269270: character maps to <undefined>",
     "output_type": "error",
     "traceback": [
      "\u001b[1;31m---------------------------------------------------------------------------\u001b[0m",
      "\u001b[1;31mUnicodeEncodeError\u001b[0m                        Traceback (most recent call last)",
      "Cell \u001b[1;32mIn[2], line 35\u001b[0m\n\u001b[0;32m     32\u001b[0m before_cells, after_cells \u001b[38;5;241m=\u001b[39m split_at_tag(notebook, tag_to_split)\n\u001b[0;32m     34\u001b[0m \u001b[38;5;66;03m# Save the two parts as separate notebooks\u001b[39;00m\n\u001b[1;32m---> 35\u001b[0m \u001b[43mcreate_new_notebook\u001b[49m\u001b[43m(\u001b[49m\u001b[43mbefore_cells\u001b[49m\u001b[43m,\u001b[49m\u001b[43m \u001b[49m\u001b[38;5;124;43m\"\u001b[39;49m\u001b[38;5;124;43mBeforePCA.ipynb\u001b[39;49m\u001b[38;5;124;43m\"\u001b[39;49m\u001b[43m)\u001b[49m\n\u001b[0;32m     36\u001b[0m create_new_notebook(after_cells, \u001b[38;5;124m\"\u001b[39m\u001b[38;5;124mAfterPCA.ipynb\u001b[39m\u001b[38;5;124m\"\u001b[39m)\n\u001b[0;32m     38\u001b[0m \u001b[38;5;28mprint\u001b[39m(\u001b[38;5;124m\"\u001b[39m\u001b[38;5;124mNotebook split successfully!\u001b[39m\u001b[38;5;124m\"\u001b[39m)\n",
      "Cell \u001b[1;32mIn[2], line 28\u001b[0m, in \u001b[0;36mcreate_new_notebook\u001b[1;34m(cells, output_file)\u001b[0m\n\u001b[0;32m     26\u001b[0m new_notebook\u001b[38;5;241m.\u001b[39mcells \u001b[38;5;241m=\u001b[39m cells\n\u001b[0;32m     27\u001b[0m \u001b[38;5;28;01mwith\u001b[39;00m \u001b[38;5;28mopen\u001b[39m(output_file, \u001b[38;5;124m\"\u001b[39m\u001b[38;5;124mw\u001b[39m\u001b[38;5;124m\"\u001b[39m) \u001b[38;5;28;01mas\u001b[39;00m f:\n\u001b[1;32m---> 28\u001b[0m     \u001b[43mnbformat\u001b[49m\u001b[38;5;241;43m.\u001b[39;49m\u001b[43mwrite\u001b[49m\u001b[43m(\u001b[49m\u001b[43mnew_notebook\u001b[49m\u001b[43m,\u001b[49m\u001b[43m \u001b[49m\u001b[43mf\u001b[49m\u001b[43m)\u001b[49m\n",
      "File \u001b[1;32mc:\\Users\\DELL\\Desktop\\Conestoga\\AIML\\FoundationsMachineLearningFramework\\Lab\\venvs\\CSCN8010_classical_ml_311\\Lib\\site-packages\\nbformat\\__init__.py:201\u001b[0m, in \u001b[0;36mwrite\u001b[1;34m(nb, fp, version, capture_validation_error, **kwargs)\u001b[0m\n\u001b[0;32m    198\u001b[0m     s \u001b[38;5;241m=\u001b[39m s\u001b[38;5;241m.\u001b[39mdecode(\u001b[38;5;124m\"\u001b[39m\u001b[38;5;124mutf8\u001b[39m\u001b[38;5;124m\"\u001b[39m)\n\u001b[0;32m    200\u001b[0m \u001b[38;5;28;01mtry\u001b[39;00m:\n\u001b[1;32m--> 201\u001b[0m     \u001b[43mfp\u001b[49m\u001b[38;5;241;43m.\u001b[39;49m\u001b[43mwrite\u001b[49m\u001b[43m(\u001b[49m\u001b[43ms\u001b[49m\u001b[43m)\u001b[49m\n\u001b[0;32m    202\u001b[0m     \u001b[38;5;28;01mif\u001b[39;00m \u001b[38;5;129;01mnot\u001b[39;00m s\u001b[38;5;241m.\u001b[39mendswith(\u001b[38;5;124m\"\u001b[39m\u001b[38;5;130;01m\\n\u001b[39;00m\u001b[38;5;124m\"\u001b[39m):\n\u001b[0;32m    203\u001b[0m         fp\u001b[38;5;241m.\u001b[39mwrite(\u001b[38;5;124m\"\u001b[39m\u001b[38;5;130;01m\\n\u001b[39;00m\u001b[38;5;124m\"\u001b[39m)\n",
      "File \u001b[1;32m~\\AppData\\Local\\Programs\\Python\\Python311\\Lib\\encodings\\cp1252.py:19\u001b[0m, in \u001b[0;36mIncrementalEncoder.encode\u001b[1;34m(self, input, final)\u001b[0m\n\u001b[0;32m     18\u001b[0m \u001b[38;5;28;01mdef\u001b[39;00m \u001b[38;5;21mencode\u001b[39m(\u001b[38;5;28mself\u001b[39m, \u001b[38;5;28minput\u001b[39m, final\u001b[38;5;241m=\u001b[39m\u001b[38;5;28;01mFalse\u001b[39;00m):\n\u001b[1;32m---> 19\u001b[0m     \u001b[38;5;28;01mreturn\u001b[39;00m \u001b[43mcodecs\u001b[49m\u001b[38;5;241;43m.\u001b[39;49m\u001b[43mcharmap_encode\u001b[49m\u001b[43m(\u001b[49m\u001b[38;5;28;43minput\u001b[39;49m\u001b[43m,\u001b[49m\u001b[38;5;28;43mself\u001b[39;49m\u001b[38;5;241;43m.\u001b[39;49m\u001b[43merrors\u001b[49m\u001b[43m,\u001b[49m\u001b[43mencoding_table\u001b[49m\u001b[43m)\u001b[49m[\u001b[38;5;241m0\u001b[39m]\n",
      "\u001b[1;31mUnicodeEncodeError\u001b[0m: 'charmap' codec can't encode character '\\u2080' in position 1269270: character maps to <undefined>"
     ]
    }
   ],
   "source": [
    "import nbformat\n",
    "\n",
    "# Load the notebook\n",
    "with open(\"Combined-Final copy.ipynb\", \"r\", encoding='utf-8') as f:\n",
    "    notebook = nbformat.read(f, as_version=4)\n",
    "\n",
    "# Split cells at a specific tag\n",
    "def split_at_tag(notebook, tag):\n",
    "    before_cells = []\n",
    "    after_cells = []\n",
    "    tag_found = False\n",
    "\n",
    "    for cell in notebook[\"cells\"]:\n",
    "        if tag in cell.get(\"metadata\", {}).get(\"tags\", []):\n",
    "            tag_found = True  # Mark that the tag has been found\n",
    "        if tag_found:\n",
    "            after_cells.append(cell)\n",
    "        else:\n",
    "            before_cells.append(cell)\n",
    "\n",
    "    return before_cells, after_cells\n",
    "\n",
    "# Create new notebooks\n",
    "def create_new_notebook(cells, output_file):\n",
    "    new_notebook = nbformat.v4.new_notebook()\n",
    "    new_notebook.cells = cells\n",
    "    with open(output_file, \"w\") as f:\n",
    "        nbformat.write(new_notebook, f)\n",
    "\n",
    "# Example: Split at a specific tag\n",
    "tag_to_split = \"PCA-START\"\n",
    "before_cells, after_cells = split_at_tag(notebook, tag_to_split)\n",
    "\n",
    "# Save the two parts as separate notebooks\n",
    "create_new_notebook(before_cells, \"BeforePCA.ipynb\")\n",
    "create_new_notebook(after_cells, \"AfterPCA.ipynb\")\n",
    "\n",
    "print(\"Notebook split successfully!\")\n"
   ]
  }
 ],
 "metadata": {
  "kernelspec": {
   "display_name": "CSCN8010_classical_ml_311",
   "language": "python",
   "name": "python3"
  },
  "language_info": {
   "codemirror_mode": {
    "name": "ipython",
    "version": 3
   },
   "file_extension": ".py",
   "mimetype": "text/x-python",
   "name": "python",
   "nbconvert_exporter": "python",
   "pygments_lexer": "ipython3",
   "version": "3.11.0"
  }
 },
 "nbformat": 4,
 "nbformat_minor": 2
}
