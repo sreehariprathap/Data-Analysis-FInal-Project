{
 "cells": [
  {
   "cell_type": "code",
   "execution_count": 3,
   "metadata": {},
   "outputs": [
    {
     "ename": "UnicodeDecodeError",
     "evalue": "'charmap' codec can't decode byte 0x81 in position 1272048: character maps to <undefined>",
     "output_type": "error",
     "traceback": [
      "\u001b[1;31m---------------------------------------------------------------------------\u001b[0m",
      "\u001b[1;31mUnicodeDecodeError\u001b[0m                        Traceback (most recent call last)",
      "Cell \u001b[1;32mIn[3], line 5\u001b[0m\n\u001b[0;32m      3\u001b[0m \u001b[38;5;66;03m# Load the two notebooks\u001b[39;00m\n\u001b[0;32m      4\u001b[0m \u001b[38;5;28;01mwith\u001b[39;00m \u001b[38;5;28mopen\u001b[39m(\u001b[38;5;124m\"\u001b[39m\u001b[38;5;124mFinalPresentation-Combined.ipynb\u001b[39m\u001b[38;5;124m\"\u001b[39m, \u001b[38;5;124m\"\u001b[39m\u001b[38;5;124mr\u001b[39m\u001b[38;5;124m\"\u001b[39m) \u001b[38;5;28;01mas\u001b[39;00m f1, \u001b[38;5;28mopen\u001b[39m(\u001b[38;5;124m\"\u001b[39m\u001b[38;5;124mLogisticLinearPolynomialRegression.ipynb\u001b[39m\u001b[38;5;124m\"\u001b[39m, \u001b[38;5;124m\"\u001b[39m\u001b[38;5;124mr\u001b[39m\u001b[38;5;124m\"\u001b[39m) \u001b[38;5;28;01mas\u001b[39;00m f2:\n\u001b[1;32m----> 5\u001b[0m     nb1 \u001b[38;5;241m=\u001b[39m \u001b[43mnbformat\u001b[49m\u001b[38;5;241;43m.\u001b[39;49m\u001b[43mread\u001b[49m\u001b[43m(\u001b[49m\u001b[43mf1\u001b[49m\u001b[43m,\u001b[49m\u001b[43m \u001b[49m\u001b[43mas_version\u001b[49m\u001b[38;5;241;43m=\u001b[39;49m\u001b[38;5;241;43m3\u001b[39;49m\u001b[43m)\u001b[49m\n\u001b[0;32m      6\u001b[0m     nb2 \u001b[38;5;241m=\u001b[39m nbformat\u001b[38;5;241m.\u001b[39mread(f2, as_version\u001b[38;5;241m=\u001b[39m\u001b[38;5;241m4\u001b[39m)\n\u001b[0;32m      8\u001b[0m \u001b[38;5;66;03m# Combine the cells\u001b[39;00m\n",
      "File \u001b[1;32mc:\\Users\\DELL\\Desktop\\Conestoga\\AIML\\FoundationsMachineLearningFramework\\Lab\\venvs\\CSCN8010_classical_ml_311\\Lib\\site-packages\\nbformat\\__init__.py:166\u001b[0m, in \u001b[0;36mread\u001b[1;34m(fp, as_version, capture_validation_error, **kwargs)\u001b[0m\n\u001b[0;32m    138\u001b[0m \u001b[38;5;250m\u001b[39m\u001b[38;5;124;03m\"\"\"Read a notebook from a file as a NotebookNode of the given version.\u001b[39;00m\n\u001b[0;32m    139\u001b[0m \n\u001b[0;32m    140\u001b[0m \u001b[38;5;124;03mThe string can contain a notebook of any version.\u001b[39;00m\n\u001b[1;32m   (...)\u001b[0m\n\u001b[0;32m    162\u001b[0m \u001b[38;5;124;03m    The notebook that was read.\u001b[39;00m\n\u001b[0;32m    163\u001b[0m \u001b[38;5;124;03m\"\"\"\u001b[39;00m\n\u001b[0;32m    165\u001b[0m \u001b[38;5;28;01mtry\u001b[39;00m:\n\u001b[1;32m--> 166\u001b[0m     buf \u001b[38;5;241m=\u001b[39m \u001b[43mfp\u001b[49m\u001b[38;5;241;43m.\u001b[39;49m\u001b[43mread\u001b[49m\u001b[43m(\u001b[49m\u001b[43m)\u001b[49m\n\u001b[0;32m    167\u001b[0m \u001b[38;5;28;01mexcept\u001b[39;00m \u001b[38;5;167;01mAttributeError\u001b[39;00m:\n\u001b[0;32m    168\u001b[0m     \u001b[38;5;28;01mwith\u001b[39;00m \u001b[38;5;28mopen\u001b[39m(fp, encoding\u001b[38;5;241m=\u001b[39m\u001b[38;5;124m\"\u001b[39m\u001b[38;5;124mutf-8\u001b[39m\u001b[38;5;124m\"\u001b[39m) \u001b[38;5;28;01mas\u001b[39;00m f:\n",
      "File \u001b[1;32m~\\AppData\\Local\\Programs\\Python\\Python311\\Lib\\encodings\\cp1252.py:23\u001b[0m, in \u001b[0;36mIncrementalDecoder.decode\u001b[1;34m(self, input, final)\u001b[0m\n\u001b[0;32m     22\u001b[0m \u001b[38;5;28;01mdef\u001b[39;00m \u001b[38;5;21mdecode\u001b[39m(\u001b[38;5;28mself\u001b[39m, \u001b[38;5;28minput\u001b[39m, final\u001b[38;5;241m=\u001b[39m\u001b[38;5;28;01mFalse\u001b[39;00m):\n\u001b[1;32m---> 23\u001b[0m     \u001b[38;5;28;01mreturn\u001b[39;00m codecs\u001b[38;5;241m.\u001b[39mcharmap_decode(\u001b[38;5;28minput\u001b[39m,\u001b[38;5;28mself\u001b[39m\u001b[38;5;241m.\u001b[39merrors,decoding_table)[\u001b[38;5;241m0\u001b[39m]\n",
      "\u001b[1;31mUnicodeDecodeError\u001b[0m: 'charmap' codec can't decode byte 0x81 in position 1272048: character maps to <undefined>"
     ]
    }
   ],
   "source": [
    "import nbformat\n",
    "\n",
    "# Load the two notebooks\n",
    "with open(\"FinalPresentation-Combined.ipynb\", \"r\") as f1, open(\"LogisticLinearPolynomialRegression.ipynb\", \"r\") as f2:\n",
    "    nb1 = nbformat.read(f1, as_version=3)\n",
    "    nb2 = nbformat.read(f2, as_version=4)\n",
    "\n",
    "# Combine the cells\n",
    "nb1.cells.extend(nb2.cells)\n",
    "\n",
    "# Save the merged notebook\n",
    "with open(\"Combined-A.ipynb\", \"w\") as f_out:\n",
    "    nbformat.write(nb1, f_out)\n",
    "\n",
    "print(\"Notebooks merged successfully into 'combined_notebook.ipynb'\")\n"
   ]
  },
  {
   "cell_type": "code",
   "execution_count": 5,
   "metadata": {},
   "outputs": [
    {
     "name": "stdout",
     "output_type": "stream",
     "text": [
      "Notebooks merged successfully into 'Combined-Final.ipynb'\n"
     ]
    }
   ],
   "source": [
    "import nbformat\n",
    "\n",
    "def merge_notebooks(notebook1_path, notebook2_path, output_path):\n",
    "    try:\n",
    "        # Read notebooks\n",
    "        with open(notebook1_path, \"r\", encoding='utf-8') as f1, \\\n",
    "             open(notebook2_path, \"r\", encoding='utf-8') as f2:\n",
    "            nb1 = nbformat.read(f1, as_version=4)  # Consistent version\n",
    "            nb2 = nbformat.read(f2, as_version=4)\n",
    "\n",
    "        # Combine cells\n",
    "        nb1.cells.extend(nb2.cells)\n",
    "\n",
    "        # Save merged notebook\n",
    "        with open(output_path, \"w\", encoding='utf-8') as f_out:\n",
    "            nbformat.write(nb1, f_out)\n",
    "\n",
    "        print(f\"Notebooks merged successfully into '{output_path}'\")\n",
    "    \n",
    "    except Exception as e:\n",
    "        print(f\"Error merging notebooks: {e}\")\n",
    "\n",
    "# Usage\n",
    "merge_notebooks(\n",
    "    \"Combined-A.ipynb\", \n",
    "    \"ProbabilisticReasoning.ipynb\", \n",
    "    \"Combined-Final.ipynb\"\n",
    ")"
   ]
  }
 ],
 "metadata": {
  "kernelspec": {
   "display_name": "CSCN8010_classical_ml_311",
   "language": "python",
   "name": "python3"
  },
  "language_info": {
   "codemirror_mode": {
    "name": "ipython",
    "version": 3
   },
   "file_extension": ".py",
   "mimetype": "text/x-python",
   "name": "python",
   "nbconvert_exporter": "python",
   "pygments_lexer": "ipython3",
   "version": "3.11.0"
  }
 },
 "nbformat": 4,
 "nbformat_minor": 2
}
